{
 "cells": [
  {
   "cell_type": "markdown",
   "metadata": {},
   "source": [
    "# Using Naive-Bayes Algorithm for Multi-class classification on textual data "
   ]
  },
  {
   "cell_type": "code",
   "execution_count": 1,
   "metadata": {},
   "outputs": [
    {
     "data": {
      "text/html": [
       "<div>\n",
       "<style scoped>\n",
       "    .dataframe tbody tr th:only-of-type {\n",
       "        vertical-align: middle;\n",
       "    }\n",
       "\n",
       "    .dataframe tbody tr th {\n",
       "        vertical-align: top;\n",
       "    }\n",
       "\n",
       "    .dataframe thead th {\n",
       "        text-align: right;\n",
       "    }\n",
       "</style>\n",
       "<table border=\"1\" class=\"dataframe\">\n",
       "  <thead>\n",
       "    <tr style=\"text-align: right;\">\n",
       "      <th></th>\n",
       "      <th>Text</th>\n",
       "      <th>Cat</th>\n",
       "    </tr>\n",
       "  </thead>\n",
       "  <tbody>\n",
       "    <tr>\n",
       "      <th>0</th>\n",
       "      <td>Hi! I'm Martine Redman and I created this puzz...</td>\n",
       "      <td>puzzles</td>\n",
       "    </tr>\n",
       "    <tr>\n",
       "      <th>1</th>\n",
       "      <td>120 colors? I say 120 sticks of fun! And a fre...</td>\n",
       "      <td>arts crafts</td>\n",
       "    </tr>\n",
       "    <tr>\n",
       "      <th>2</th>\n",
       "      <td>What a wonderful creation. Art, in our house, ...</td>\n",
       "      <td>arts crafts</td>\n",
       "    </tr>\n",
       "    <tr>\n",
       "      <th>3</th>\n",
       "      <td>Meowth is the coolest, lots of play value. Gre...</td>\n",
       "      <td>action toy figures</td>\n",
       "    </tr>\n",
       "    <tr>\n",
       "      <th>4</th>\n",
       "      <td>You can give a MagnaDoodle to any kid who's ab...</td>\n",
       "      <td>arts crafts</td>\n",
       "    </tr>\n",
       "    <tr>\n",
       "      <th>...</th>\n",
       "      <td>...</td>\n",
       "      <td>...</td>\n",
       "    </tr>\n",
       "    <tr>\n",
       "      <th>4995</th>\n",
       "      <td>I am always looking for foods that have not be...</td>\n",
       "      <td>snack food</td>\n",
       "    </tr>\n",
       "    <tr>\n",
       "      <th>4996</th>\n",
       "      <td>Critical item for our household which includes...</td>\n",
       "      <td>baby food</td>\n",
       "    </tr>\n",
       "    <tr>\n",
       "      <th>4997</th>\n",
       "      <td>I ordered these based on the positive reviews ...</td>\n",
       "      <td>snack food</td>\n",
       "    </tr>\n",
       "    <tr>\n",
       "      <th>4998</th>\n",
       "      <td>I was a little leery having to buy a box with ...</td>\n",
       "      <td>snack food</td>\n",
       "    </tr>\n",
       "    <tr>\n",
       "      <th>4999</th>\n",
       "      <td>I purchased this for making fudge. I made 2 ba...</td>\n",
       "      <td>cooking baking supplies</td>\n",
       "    </tr>\n",
       "  </tbody>\n",
       "</table>\n",
       "<p>5000 rows × 2 columns</p>\n",
       "</div>"
      ],
      "text/plain": [
       "                                                   Text  \\\n",
       "0     Hi! I'm Martine Redman and I created this puzz...   \n",
       "1     120 colors? I say 120 sticks of fun! And a fre...   \n",
       "2     What a wonderful creation. Art, in our house, ...   \n",
       "3     Meowth is the coolest, lots of play value. Gre...   \n",
       "4     You can give a MagnaDoodle to any kid who's ab...   \n",
       "...                                                 ...   \n",
       "4995  I am always looking for foods that have not be...   \n",
       "4996  Critical item for our household which includes...   \n",
       "4997  I ordered these based on the positive reviews ...   \n",
       "4998  I was a little leery having to buy a box with ...   \n",
       "4999  I purchased this for making fudge. I made 2 ba...   \n",
       "\n",
       "                          Cat  \n",
       "0                     puzzles  \n",
       "1                 arts crafts  \n",
       "2                 arts crafts  \n",
       "3          action toy figures  \n",
       "4                 arts crafts  \n",
       "...                       ...  \n",
       "4995               snack food  \n",
       "4996                baby food  \n",
       "4997               snack food  \n",
       "4998               snack food  \n",
       "4999  cooking baking supplies  \n",
       "\n",
       "[5000 rows x 2 columns]"
      ]
     },
     "execution_count": 1,
     "metadata": {},
     "output_type": "execute_result"
    }
   ],
   "source": [
    "import pandas as pd\n",
    "df = pd.read_csv('option_1.csv')\n",
    "df"
   ]
  },
  {
   "cell_type": "code",
   "execution_count": 2,
   "metadata": {},
   "outputs": [],
   "source": [
    "import re\n",
    "from nltk.corpus import stopwords\n",
    "from wordcloud import WordCloud, STOPWORDS\n",
    "import spacy"
   ]
  },
  {
   "cell_type": "code",
   "execution_count": 3,
   "metadata": {},
   "outputs": [
    {
     "data": {
      "text/plain": [
       "0    hi! i'm martine redman and i created this puzz...\n",
       "1    120 colors? i say 120 sticks of fun! and a fre...\n",
       "2    what a wonderful creation. art, in our house, ...\n",
       "3    meowth is the coolest, lots of play value. gre...\n",
       "4    you can give a magnadoodle to any kid who's ab...\n",
       "Name: new_Text, dtype: object"
      ]
     },
     "execution_count": 3,
     "metadata": {},
     "output_type": "execute_result"
    }
   ],
   "source": [
    "df['new_Text'] = df['Text'].apply(lambda x: \" \".join(x.lower() for x in x.split()))\n",
    "df['new_Text'].head()"
   ]
  },
  {
   "cell_type": "code",
   "execution_count": 4,
   "metadata": {},
   "outputs": [
    {
     "name": "stderr",
     "output_type": "stream",
     "text": [
      "[nltk_data] Downloading package stopwords to\n",
      "[nltk_data]     C:\\Users\\Sunil\\AppData\\Roaming\\nltk_data...\n",
      "[nltk_data]   Package stopwords is already up-to-date!\n"
     ]
    },
    {
     "data": {
      "text/html": [
       "<div>\n",
       "<style scoped>\n",
       "    .dataframe tbody tr th:only-of-type {\n",
       "        vertical-align: middle;\n",
       "    }\n",
       "\n",
       "    .dataframe tbody tr th {\n",
       "        vertical-align: top;\n",
       "    }\n",
       "\n",
       "    .dataframe thead th {\n",
       "        text-align: right;\n",
       "    }\n",
       "</style>\n",
       "<table border=\"1\" class=\"dataframe\">\n",
       "  <thead>\n",
       "    <tr style=\"text-align: right;\">\n",
       "      <th></th>\n",
       "      <th>Text</th>\n",
       "      <th>Cat</th>\n",
       "      <th>new_Text</th>\n",
       "    </tr>\n",
       "  </thead>\n",
       "  <tbody>\n",
       "    <tr>\n",
       "      <th>0</th>\n",
       "      <td>Hi! I'm Martine Redman and I created this puzz...</td>\n",
       "      <td>puzzles</td>\n",
       "      <td>hi! i'm martine redman created puzzle briarpat...</td>\n",
       "    </tr>\n",
       "    <tr>\n",
       "      <th>1</th>\n",
       "      <td>120 colors? I say 120 sticks of fun! And a fre...</td>\n",
       "      <td>arts crafts</td>\n",
       "      <td>120 colors? say 120 sticks fun! free sharpener...</td>\n",
       "    </tr>\n",
       "    <tr>\n",
       "      <th>2</th>\n",
       "      <td>What a wonderful creation. Art, in our house, ...</td>\n",
       "      <td>arts crafts</td>\n",
       "      <td>wonderful creation. art, house, comes many col...</td>\n",
       "    </tr>\n",
       "    <tr>\n",
       "      <th>3</th>\n",
       "      <td>Meowth is the coolest, lots of play value. Gre...</td>\n",
       "      <td>action toy figures</td>\n",
       "      <td>meowth coolest, lots play value. great use kid...</td>\n",
       "    </tr>\n",
       "    <tr>\n",
       "      <th>4</th>\n",
       "      <td>You can give a MagnaDoodle to any kid who's ab...</td>\n",
       "      <td>arts crafts</td>\n",
       "      <td>give magnadoodle kid who's able grasp stylus; ...</td>\n",
       "    </tr>\n",
       "    <tr>\n",
       "      <th>5</th>\n",
       "      <td>Mitchum Clear Gel Anti-Perspirant is an effect...</td>\n",
       "      <td>personal care</td>\n",
       "      <td>mitchum clear gel anti-perspirant effective de...</td>\n",
       "    </tr>\n",
       "    <tr>\n",
       "      <th>6</th>\n",
       "      <td>I loved the flavor of the bars!!! I really did...</td>\n",
       "      <td>nutrition wellness</td>\n",
       "      <td>loved flavor bars!!! really expect good are!!!...</td>\n",
       "    </tr>\n",
       "    <tr>\n",
       "      <th>7</th>\n",
       "      <td>My 5 year old daughter loved following the lif...</td>\n",
       "      <td>learning education</td>\n",
       "      <td>5 year old daughter loved following life cycle...</td>\n",
       "    </tr>\n",
       "    <tr>\n",
       "      <th>8</th>\n",
       "      <td>On my way to a great vacation in the Pocono's ...</td>\n",
       "      <td>electronics for kids</td>\n",
       "      <td>way great vacation pocono's son family. niita ...</td>\n",
       "    </tr>\n",
       "    <tr>\n",
       "      <th>9</th>\n",
       "      <td>These things are absolutely marvelous! Serious...</td>\n",
       "      <td>household supplies</td>\n",
       "      <td>things absolutely marvelous! seriously folks, ...</td>\n",
       "    </tr>\n",
       "    <tr>\n",
       "      <th>10</th>\n",
       "      <td>I CONFESS I AM AN ADDICT!! Recently I recieved...</td>\n",
       "      <td>electronics for kids</td>\n",
       "      <td>confess addict!! recently recieved slingo gift...</td>\n",
       "    </tr>\n",
       "    <tr>\n",
       "      <th>11</th>\n",
       "      <td>If you are one of those people that collects t...</td>\n",
       "      <td>stuffed animals plush</td>\n",
       "      <td>one people collects things, means get it, thri...</td>\n",
       "    </tr>\n",
       "    <tr>\n",
       "      <th>12</th>\n",
       "      <td>Peace is a beautiful multicolored bear. No two...</td>\n",
       "      <td>stuffed animals plush</td>\n",
       "      <td>peace beautiful multicolored bear. two alike. ...</td>\n",
       "    </tr>\n",
       "    <tr>\n",
       "      <th>13</th>\n",
       "      <td>I have played checkers for over a year now, an...</td>\n",
       "      <td>electronics for kids</td>\n",
       "      <td>played checkers year now, i'm quite serious ga...</td>\n",
       "    </tr>\n",
       "    <tr>\n",
       "      <th>14</th>\n",
       "      <td>I've used these batteries my entire life in ev...</td>\n",
       "      <td>household supplies</td>\n",
       "      <td>i've used batteries entire life everything smo...</td>\n",
       "    </tr>\n",
       "    <tr>\n",
       "      <th>15</th>\n",
       "      <td>My kids have alot of fun with this spongy clay...</td>\n",
       "      <td>arts crafts</td>\n",
       "      <td>kids alot fun spongy clay. love mixing new col...</td>\n",
       "    </tr>\n",
       "    <tr>\n",
       "      <th>16</th>\n",
       "      <td>I liked the Breath Right Nasal Strips. They ke...</td>\n",
       "      <td>health care</td>\n",
       "      <td>liked breath right nasal strips. kept nostrils...</td>\n",
       "    </tr>\n",
       "    <tr>\n",
       "      <th>17</th>\n",
       "      <td>This shaver was much better than others I have...</td>\n",
       "      <td>personal care</td>\n",
       "      <td>shaver much better others tried past. leave ti...</td>\n",
       "    </tr>\n",
       "    <tr>\n",
       "      <th>18</th>\n",
       "      <td>I play for a college soccer team, and on one o...</td>\n",
       "      <td>electronics for kids</td>\n",
       "      <td>play college soccer team, one away games one g...</td>\n",
       "    </tr>\n",
       "    <tr>\n",
       "      <th>19</th>\n",
       "      <td>FLIMSY FLIMSY FLIMSY! FOR THE PRICE YOU THINK ...</td>\n",
       "      <td>arts crafts</td>\n",
       "      <td>flimsy flimsy flimsy! price think could make l...</td>\n",
       "    </tr>\n",
       "  </tbody>\n",
       "</table>\n",
       "</div>"
      ],
      "text/plain": [
       "                                                 Text                    Cat  \\\n",
       "0   Hi! I'm Martine Redman and I created this puzz...                puzzles   \n",
       "1   120 colors? I say 120 sticks of fun! And a fre...            arts crafts   \n",
       "2   What a wonderful creation. Art, in our house, ...            arts crafts   \n",
       "3   Meowth is the coolest, lots of play value. Gre...     action toy figures   \n",
       "4   You can give a MagnaDoodle to any kid who's ab...            arts crafts   \n",
       "5   Mitchum Clear Gel Anti-Perspirant is an effect...          personal care   \n",
       "6   I loved the flavor of the bars!!! I really did...     nutrition wellness   \n",
       "7   My 5 year old daughter loved following the lif...     learning education   \n",
       "8   On my way to a great vacation in the Pocono's ...   electronics for kids   \n",
       "9   These things are absolutely marvelous! Serious...     household supplies   \n",
       "10  I CONFESS I AM AN ADDICT!! Recently I recieved...   electronics for kids   \n",
       "11  If you are one of those people that collects t...  stuffed animals plush   \n",
       "12  Peace is a beautiful multicolored bear. No two...  stuffed animals plush   \n",
       "13  I have played checkers for over a year now, an...   electronics for kids   \n",
       "14  I've used these batteries my entire life in ev...     household supplies   \n",
       "15  My kids have alot of fun with this spongy clay...            arts crafts   \n",
       "16  I liked the Breath Right Nasal Strips. They ke...            health care   \n",
       "17  This shaver was much better than others I have...          personal care   \n",
       "18  I play for a college soccer team, and on one o...   electronics for kids   \n",
       "19  FLIMSY FLIMSY FLIMSY! FOR THE PRICE YOU THINK ...            arts crafts   \n",
       "\n",
       "                                             new_Text  \n",
       "0   hi! i'm martine redman created puzzle briarpat...  \n",
       "1   120 colors? say 120 sticks fun! free sharpener...  \n",
       "2   wonderful creation. art, house, comes many col...  \n",
       "3   meowth coolest, lots play value. great use kid...  \n",
       "4   give magnadoodle kid who's able grasp stylus; ...  \n",
       "5   mitchum clear gel anti-perspirant effective de...  \n",
       "6   loved flavor bars!!! really expect good are!!!...  \n",
       "7   5 year old daughter loved following life cycle...  \n",
       "8   way great vacation pocono's son family. niita ...  \n",
       "9   things absolutely marvelous! seriously folks, ...  \n",
       "10  confess addict!! recently recieved slingo gift...  \n",
       "11  one people collects things, means get it, thri...  \n",
       "12  peace beautiful multicolored bear. two alike. ...  \n",
       "13  played checkers year now, i'm quite serious ga...  \n",
       "14  i've used batteries entire life everything smo...  \n",
       "15  kids alot fun spongy clay. love mixing new col...  \n",
       "16  liked breath right nasal strips. kept nostrils...  \n",
       "17  shaver much better others tried past. leave ti...  \n",
       "18  play college soccer team, one away games one g...  \n",
       "19  flimsy flimsy flimsy! price think could make l...  "
      ]
     },
     "execution_count": 4,
     "metadata": {},
     "output_type": "execute_result"
    }
   ],
   "source": [
    "import nltk\n",
    "nltk.download('stopwords')\n",
    "stop = stopwords.words('english')\n",
    "df['new_Text'] = df['new_Text'].apply(lambda x: \" \".join(x for x in x.split() if x not in stop))\n",
    "df.head(20)"
   ]
  },
  {
   "cell_type": "code",
   "execution_count": 5,
   "metadata": {},
   "outputs": [],
   "source": [
    "from sklearn.feature_extraction.text import TfidfVectorizer\n",
    "tfidf = TfidfVectorizer(sublinear_tf=True, min_df=5, norm='l2', encoding='latin-1', ngram_range=(1, 2), stop_words='english')\n",
    "features = tfidf.fit_transform(df.new_Text).toarray()\n",
    "labels = df.Cat\n"
   ]
  },
  {
   "cell_type": "code",
   "execution_count": 6,
   "metadata": {},
   "outputs": [
    {
     "data": {
      "text/plain": [
       "MultinomialNB()"
      ]
     },
     "execution_count": 6,
     "metadata": {},
     "output_type": "execute_result"
    }
   ],
   "source": [
    "from sklearn.model_selection import train_test_split\n",
    "from sklearn.feature_extraction.text import CountVectorizer\n",
    "from sklearn.feature_extraction.text import TfidfTransformer\n",
    "from sklearn.naive_bayes import MultinomialNB\n",
    "X_train, X_test, y_train, y_test = train_test_split(df['new_Text'], df['Cat'], random_state = 0)\n",
    "count_vect = CountVectorizer()\n",
    "X_train_counts = count_vect.fit_transform(X_train)\n",
    "tfidf_transformer = TfidfTransformer()\n",
    "X_train_tfidf = tfidf_transformer.fit_transform(X_train_counts)\n",
    "clf = MultinomialNB()\n",
    "clf.fit(X_train_tfidf, y_train)"
   ]
  },
  {
   "cell_type": "code",
   "execution_count": 7,
   "metadata": {},
   "outputs": [
    {
     "name": "stdout",
     "output_type": "stream",
     "text": [
      "  (0, 14182)\t0.18830534793615428\n",
      "  (0, 13738)\t0.13367237451953598\n",
      "  (0, 13360)\t0.13194325554294412\n",
      "  (0, 10353)\t0.15822083741116807\n",
      "  (0, 9696)\t0.2344863506695177\n",
      "  (0, 9500)\t0.32362824946958924\n",
      "  (0, 9499)\t0.2710730857331412\n",
      "  (0, 9278)\t0.2557016857306\n",
      "  (0, 9268)\t0.24985775067205893\n",
      "  (0, 9134)\t0.203146521994152\n",
      "  (0, 7828)\t0.14665636606538907\n",
      "  (0, 7661)\t0.18455395156374824\n",
      "  (0, 6798)\t0.26660786759628274\n",
      "  (0, 6000)\t0.09119016049133763\n",
      "  (0, 5893)\t0.10122729485724666\n",
      "  (0, 5312)\t0.3140646439730568\n",
      "  (0, 3244)\t0.2710730857331412\n",
      "  (0, 2876)\t0.20159893825852515\n",
      "  (0, 2077)\t0.16778281354284771\n",
      "  (0, 1860)\t0.20084821002276876\n",
      "  (0, 1577)\t0.2518544684572913\n",
      "  (0, 785)\t0.10980779936089004\n",
      "  (1, 14851)\t0.06760157877956305\n",
      "  (1, 14765)\t0.06760157877956305\n",
      "  (1, 14549)\t0.05364528084212625\n",
      "  :\t:\n",
      "  (3749, 14134)\t0.08932803146170602\n",
      "  (3749, 13629)\t0.22240862740086054\n",
      "  (3749, 10714)\t0.14855102309490137\n",
      "  (3749, 10518)\t0.13996715700088203\n",
      "  (3749, 10129)\t0.08300071710811902\n",
      "  (3749, 10058)\t0.11215059544664469\n",
      "  (3749, 10036)\t0.16755084952979304\n",
      "  (3749, 9523)\t0.26997595908035454\n",
      "  (3749, 8972)\t0.22613358512929468\n",
      "  (3749, 8756)\t0.12546147573825295\n",
      "  (3749, 8706)\t0.12005249407772894\n",
      "  (3749, 8475)\t0.22240862740086054\n",
      "  (3749, 7994)\t0.26997595908035454\n",
      "  (3749, 7064)\t0.2480547721048246\n",
      "  (3749, 6281)\t0.2571528867283725\n",
      "  (3749, 6000)\t0.07607231778341324\n",
      "  (3749, 5440)\t0.1651628788029143\n",
      "  (3749, 5113)\t0.19877753277518972\n",
      "  (3749, 4831)\t0.15253205985599638\n",
      "  (3749, 4454)\t0.21604370157971375\n",
      "  (3749, 2808)\t0.18037392188177506\n",
      "  (3749, 2738)\t0.26997595908035454\n",
      "  (3749, 2737)\t0.2571528867283725\n",
      "  (3749, 1708)\t0.16755084952979304\n",
      "  (3749, 611)\t0.1888579281273064\n"
     ]
    }
   ],
   "source": [
    "print(X_train_tfidf)"
   ]
  },
  {
   "cell_type": "code",
   "execution_count": 8,
   "metadata": {},
   "outputs": [
    {
     "name": "stdout",
     "output_type": "stream",
     "text": [
      "['snack food']\n"
     ]
    }
   ],
   "source": [
    "#validating the model using a new review \n",
    "print(clf.predict(count_vect.transform(['Hi I love these puzzles, I spend all my days playing with them ']))) "
   ]
  },
  {
   "cell_type": "code",
   "execution_count": 9,
   "metadata": {},
   "outputs": [],
   "source": [
    "X_test_counts = count_vect.transform(X_test)\n",
    "tfidf_transformer = TfidfTransformer()\n",
    "X_test_tfidf = tfidf_transformer.fit_transform(X_test_counts)"
   ]
  },
  {
   "cell_type": "code",
   "execution_count": 10,
   "metadata": {},
   "outputs": [
    {
     "name": "stdout",
     "output_type": "stream",
     "text": [
      "(3750, 14937)\n",
      "(1250, 14937)\n"
     ]
    },
    {
     "data": {
      "text/plain": [
       "MultinomialNB()"
      ]
     },
     "execution_count": 10,
     "metadata": {},
     "output_type": "execute_result"
    }
   ],
   "source": [
    "import numpy as np \n",
    "from sklearn.metrics import accuracy_score\n",
    "\n",
    "print(X_train_tfidf.shape)\n",
    "print(X_test_tfidf.shape)\n",
    "clf.fit(X_train_tfidf,y_train)"
   ]
  },
  {
   "cell_type": "code",
   "execution_count": 11,
   "metadata": {},
   "outputs": [],
   "source": [
    "y_hat = clf.predict(X_test_tfidf)\n",
    "y_true = y_test\n",
    "clf_2 = accuracy_score(y_hat,y_true)"
   ]
  },
  {
   "cell_type": "code",
   "execution_count": 12,
   "metadata": {},
   "outputs": [],
   "source": [
    "ypred=clf.predict(X_test_tfidf)"
   ]
  },
  {
   "cell_type": "code",
   "execution_count": 13,
   "metadata": {},
   "outputs": [
    {
     "name": "stdout",
     "output_type": "stream",
     "text": [
      "Confusion Matrix:\n",
      "[[ 25   0   0   0   3   0   0   0   5   0   0   0   4   5   2   0   0  23\n",
      "    0   2]\n",
      " [  1  26   0   0   0   0   0   0   0   0   0   0   6   2   0   0   2  27\n",
      "    3   0]\n",
      " [  0   0   0   0   0   0   0   0   0   0   1   0   0   0   1   0   0   6\n",
      "    0   0]\n",
      " [  0   0   0   5   0   0   0   0   0   0   0   1   0   0  12   0   0  58\n",
      "    0   0]\n",
      " [  5   0   0   0  16   0   0   0   1   0   0   0   3   8   0   0   1  13\n",
      "    2   0]\n",
      " [  0   0   0   0   0  41   0   0   0   0   0   2   0   5   3   0   0   8\n",
      "    0   0]\n",
      " [  0   0   0   0   0   0   0   0   0   0   0   0   0   0   3   0   0  21\n",
      "    0   0]\n",
      " [  0   0   0   0   0   2   0  24   0   0   0   1   0  11   4   0   0  21\n",
      "    0   0]\n",
      " [  1   0   0   0   0   1   0   1  27   0   0   0   0   6   0   0   0   8\n",
      "    1   1]\n",
      " [  0   0   0   0   0   0   0   0   0  20   0   0   0  10  11   0   0  10\n",
      "    0   0]\n",
      " [  0   0   0   0   0   0   0   0   0   0  22   0   0  20  13   2   0  16\n",
      "    0   0]\n",
      " [  0   0   0   0   0   1   0   0   0   0   0  50   0  15   5   0   0  23\n",
      "    0   0]\n",
      " [  1   3   0   0   0   1   0   0   1   0   1   0   8   6   2   0   2  18\n",
      "    0   0]\n",
      " [  0   0   0   0   0   0   0   0   0   0   3   0   0  93   3   0   0   9\n",
      "    0   0]\n",
      " [  0   0   0   0   0   1   0   0   0   0   1   3   0   3  68   1   0  29\n",
      "    0   0]\n",
      " [  1   0   0   0   0   0   0   0   0   0   1   0   0   3   4  29   0  14\n",
      "    0   0]\n",
      " [  1   2   0   0   0   0   0   0   3   0   1   0   2   6   0   0  38   8\n",
      "    1   0]\n",
      " [  0   0   0   1   0   0   0   0   0   0   0   0   0   0   2   0   0 108\n",
      "    0   0]\n",
      " [  2   0   0   0   0   0   0   0   2   0   0   1   0   6   2   0   0  13\n",
      "   22   0]\n",
      " [  0   0   0   0   1   0   0   0   1   0   1   1   1   4   0   0   0  13\n",
      "    0  19]]\n",
      "Classification Report:\n",
      "                            precision    recall  f1-score   support\n",
      "\n",
      "        action toy figures       0.68      0.36      0.47        69\n",
      "               arts crafts       0.84      0.39      0.53        67\n",
      "                 baby food       0.00      0.00      0.00         8\n",
      "           breakfast foods       0.83      0.07      0.12        76\n",
      "             building toys       0.80      0.33      0.46        49\n",
      "                      cats       0.87      0.69      0.77        59\n",
      "   cooking baking supplies       0.00      0.00      0.00        24\n",
      "                      dogs       0.96      0.38      0.55        63\n",
      "      electronics for kids       0.68      0.59      0.63        46\n",
      "         fish aquatic pets       1.00      0.39      0.56        51\n",
      "               health care       0.71      0.30      0.42        73\n",
      "        household supplies       0.85      0.53      0.65        94\n",
      "        learning education       0.33      0.19      0.24        43\n",
      "medical supplies equipment       0.46      0.86      0.60       108\n",
      "        nutrition wellness       0.50      0.64      0.56       106\n",
      "             personal care       0.91      0.56      0.69        52\n",
      "                   puzzles       0.88      0.61      0.72        62\n",
      "                snack food       0.24      0.97      0.39       111\n",
      "       sports outdoor play       0.76      0.46      0.57        48\n",
      "     stuffed animals plush       0.86      0.46      0.60        41\n",
      "\n",
      "                  accuracy                           0.51      1250\n",
      "                 macro avg       0.66      0.44      0.48      1250\n",
      "              weighted avg       0.68      0.51      0.51      1250\n",
      "\n",
      "Accuracy: 0.5128\n"
     ]
    },
    {
     "name": "stderr",
     "output_type": "stream",
     "text": [
      "C:\\Users\\Sunil\\anaconda3\\lib\\site-packages\\sklearn\\metrics\\_classification.py:1221: UndefinedMetricWarning: Precision and F-score are ill-defined and being set to 0.0 in labels with no predicted samples. Use `zero_division` parameter to control this behavior.\n",
      "  _warn_prf(average, modifier, msg_start, len(result))\n"
     ]
    }
   ],
   "source": [
    "from sklearn.metrics import classification_report, confusion_matrix, accuracy_score\n",
    "result = confusion_matrix(y_test, ypred)\n",
    "print(\"Confusion Matrix:\")\n",
    "print(result)\n",
    "result1 = classification_report(y_test, ypred)\n",
    "print(\"Classification Report:\")\n",
    "print (result1)\n",
    "result2 = accuracy_score(y_test,ypred)\n",
    "print(\"Accuracy:\",result2)"
   ]
  },
  {
   "cell_type": "markdown",
   "metadata": {},
   "source": [
    "Accuracy achieved for the given model when we used naive bayes is 51.28%"
   ]
  },
  {
   "cell_type": "markdown",
   "metadata": {},
   "source": [
    "# Using  KNN for Multi-Class Classification"
   ]
  },
  {
   "cell_type": "code",
   "execution_count": 14,
   "metadata": {},
   "outputs": [],
   "source": [
    "from sklearn import preprocessing\n",
    "from sklearn.model_selection import train_test_split\n",
    "from sklearn.neighbors import KNeighborsClassifier\n",
    "import matplotlib.pyplot as plt\n",
    "import seaborn as sns\n",
    "import pandas as pd"
   ]
  },
  {
   "cell_type": "code",
   "execution_count": 15,
   "metadata": {},
   "outputs": [
    {
     "data": {
      "text/plain": [
       "array(['puzzles', 'arts crafts', 'action toy figures', 'personal care',\n",
       "       'nutrition wellness', 'learning education', 'electronics for kids',\n",
       "       'household supplies', 'stuffed animals plush', 'health care',\n",
       "       'medical supplies equipment', 'building toys',\n",
       "       'sports outdoor play', 'cats', 'dogs', 'breakfast foods',\n",
       "       'cooking baking supplies', 'snack food', 'baby food',\n",
       "       'fish aquatic pets'], dtype=object)"
      ]
     },
     "execution_count": 15,
     "metadata": {},
     "output_type": "execute_result"
    }
   ],
   "source": [
    "df['Cat'].unique()"
   ]
  },
  {
   "cell_type": "code",
   "execution_count": 16,
   "metadata": {},
   "outputs": [
    {
     "data": {
      "text/plain": [
       "False"
      ]
     },
     "execution_count": 16,
     "metadata": {},
     "output_type": "execute_result"
    }
   ],
   "source": [
    "df.isnull().values.any()"
   ]
  },
  {
   "cell_type": "code",
   "execution_count": 17,
   "metadata": {},
   "outputs": [
    {
     "data": {
      "text/plain": [
       "KNeighborsClassifier()"
      ]
     },
     "execution_count": 17,
     "metadata": {},
     "output_type": "execute_result"
    }
   ],
   "source": [
    "X_train, X_test, y_train, y_test = train_test_split(df['new_Text'], df['Cat'], random_state = 0)\n",
    "count_vect = CountVectorizer()\n",
    "X_train_counts = count_vect.fit_transform(X_train)\n",
    "tfidf_transformer = TfidfTransformer()\n",
    "X_train_tfidf = tfidf_transformer.fit_transform(X_train_counts)\n",
    "knn_clf=KNeighborsClassifier()\n",
    "knn_clf.fit(X_train_tfidf,y_train)"
   ]
  },
  {
   "cell_type": "code",
   "execution_count": 18,
   "metadata": {},
   "outputs": [
    {
     "name": "stdout",
     "output_type": "stream",
     "text": [
      "['snack food']\n"
     ]
    }
   ],
   "source": [
    "\n",
    "print(knn_clf.predict(count_vect.transform(['Hi I love these puzzles, I spend all my days playing with them '])))"
   ]
  },
  {
   "cell_type": "code",
   "execution_count": 19,
   "metadata": {},
   "outputs": [],
   "source": [
    "y_hat = knn_clf.predict(X_test_tfidf)\n",
    "y_true = y_test\n",
    "clf_3 = accuracy_score(y_hat,y_true)"
   ]
  },
  {
   "cell_type": "code",
   "execution_count": 20,
   "metadata": {},
   "outputs": [
    {
     "data": {
      "text/plain": [
       "0.5856"
      ]
     },
     "execution_count": 20,
     "metadata": {},
     "output_type": "execute_result"
    }
   ],
   "source": [
    "clf_3"
   ]
  },
  {
   "cell_type": "code",
   "execution_count": 21,
   "metadata": {},
   "outputs": [],
   "source": [
    "ypred=knn_clf.predict(X_test_tfidf)"
   ]
  },
  {
   "cell_type": "code",
   "execution_count": 22,
   "metadata": {},
   "outputs": [
    {
     "name": "stdout",
     "output_type": "stream",
     "text": [
      "Confusion Matrix:\n",
      "[[33  1  0  0  8  2  0  0  8  1  0  1  4  0  1  0  2  2  5  1]\n",
      " [ 5 32  0  2  5  0  0  0  3  0  1  1  7  0  1  1  4  0  5  0]\n",
      " [ 1  0  6  0  0  0  0  0  0  0  1  0  0  0  0  0  0  0  0  0]\n",
      " [ 0  1  2 41  0  0  2  1  0  0  0  0  0  0 20  0  0  9  0  0]\n",
      " [ 7  2  0  1 29  0  0  0  4  0  1  0  3  1  0  0  1  0  0  0]\n",
      " [ 0  1  0  0  1 45  0  2  0  1  2  1  0  1  1  2  1  1  0  0]\n",
      " [ 0  1  1  4  0  0  8  0  0  0  0  0  1  0  3  1  0  5  0  0]\n",
      " [ 0  2  2  2  0  7  0 42  0  0  0  2  0  3  0  2  0  0  0  1]\n",
      " [ 4  3  0  0  0  1  0  1 30  0  2  0  2  1  0  0  1  0  1  0]\n",
      " [ 1  0  1  2  0  0  0  1  0 39  1  1  0  3  0  0  0  1  0  1]\n",
      " [ 2  2  1  2  2  5  0  3  1  1 34  1  0  5  7  4  0  1  2  0]\n",
      " [ 3  4  1  1  2  1  4  4  2  1  5 58  1  5  1  0  0  1  0  0]\n",
      " [ 4  9  1  0  3  0  1  2  3  0  0  1 13  2  0  0  4  0  0  0]\n",
      " [ 1  5  2  3  1  6  2  7  2  2  5  4  1 64  1  1  0  1  0  0]\n",
      " [ 0  0  3 22  0  4  0  2  1  0  7  5  0  3 53  1  0  5  0  0]\n",
      " [ 1  0  0  1  1  0  0  0  2  1  2  1  0  1  2 39  0  0  1  0]\n",
      " [ 1  2  1  0  0  1  0  0  6  0  0  0  4  0  0  0 45  0  1  1]\n",
      " [ 1  0  0 17  0  0  3  1  1  0  2  1  0  1  8  0  0 75  1  0]\n",
      " [ 4  3  1  1  1  1  0  3  4  3  2  1  3  0  0  0  1  0 20  0]\n",
      " [ 3  1  0  0  1  0  0  1  2  0  0  1  3  2  0  0  0  1  0 26]]\n",
      "Classification Report:\n",
      "                            precision    recall  f1-score   support\n",
      "\n",
      "        action toy figures       0.46      0.48      0.47        69\n",
      "               arts crafts       0.46      0.48      0.47        67\n",
      "                 baby food       0.27      0.75      0.40         8\n",
      "           breakfast foods       0.41      0.54      0.47        76\n",
      "             building toys       0.54      0.59      0.56        49\n",
      "                      cats       0.62      0.76      0.68        59\n",
      "   cooking baking supplies       0.40      0.33      0.36        24\n",
      "                      dogs       0.60      0.67      0.63        63\n",
      "      electronics for kids       0.43      0.65      0.52        46\n",
      "         fish aquatic pets       0.80      0.76      0.78        51\n",
      "               health care       0.52      0.47      0.49        73\n",
      "        household supplies       0.73      0.62      0.67        94\n",
      "        learning education       0.31      0.30      0.31        43\n",
      "medical supplies equipment       0.70      0.59      0.64       108\n",
      "        nutrition wellness       0.54      0.50      0.52       106\n",
      "             personal care       0.76      0.75      0.76        52\n",
      "                   puzzles       0.76      0.73      0.74        62\n",
      "                snack food       0.74      0.68      0.70       111\n",
      "       sports outdoor play       0.56      0.42      0.48        48\n",
      "     stuffed animals plush       0.87      0.63      0.73        41\n",
      "\n",
      "                  accuracy                           0.59      1250\n",
      "                 macro avg       0.57      0.58      0.57      1250\n",
      "              weighted avg       0.60      0.59      0.59      1250\n",
      "\n",
      "Accuracy: 0.5856\n"
     ]
    }
   ],
   "source": [
    "from sklearn.metrics import classification_report, confusion_matrix, accuracy_score\n",
    "result = confusion_matrix(y_test, ypred)\n",
    "print(\"Confusion Matrix:\")\n",
    "print(result)\n",
    "result1 = classification_report(y_test, ypred)\n",
    "print(\"Classification Report:\")\n",
    "print (result1)\n",
    "result2 = accuracy_score(y_test,ypred)\n",
    "print(\"Accuracy:\",result2)"
   ]
  },
  {
   "cell_type": "markdown",
   "metadata": {},
   "source": [
    "Accuracy acheived for KNN is 58.56% , KNN does better than Naive-bayes for the given dataset "
   ]
  },
  {
   "cell_type": "markdown",
   "metadata": {},
   "source": [
    "# Using Decision Trees for Multi Class Cassification "
   ]
  },
  {
   "cell_type": "code",
   "execution_count": 23,
   "metadata": {},
   "outputs": [],
   "source": [
    "from sklearn.tree import DecisionTreeClassifier\n",
    "clf_gini=DecisionTreeClassifier(criterion=\"gini\",random_state=100,max_depth=3,min_samples_leaf=5)"
   ]
  },
  {
   "cell_type": "code",
   "execution_count": 24,
   "metadata": {},
   "outputs": [
    {
     "data": {
      "text/plain": [
       "DecisionTreeClassifier(max_depth=3, min_samples_leaf=5, random_state=100)"
      ]
     },
     "execution_count": 24,
     "metadata": {},
     "output_type": "execute_result"
    }
   ],
   "source": [
    "clf_gini.fit(X_train_tfidf,y_train)"
   ]
  },
  {
   "cell_type": "code",
   "execution_count": 25,
   "metadata": {},
   "outputs": [],
   "source": [
    "clf_entropy=DecisionTreeClassifier(criterion=\"entropy\",random_state=100,max_depth=3,min_samples_leaf=5)"
   ]
  },
  {
   "cell_type": "code",
   "execution_count": 26,
   "metadata": {},
   "outputs": [
    {
     "data": {
      "text/plain": [
       "DecisionTreeClassifier(criterion='entropy', max_depth=3, min_samples_leaf=5,\n",
       "                       random_state=100)"
      ]
     },
     "execution_count": 26,
     "metadata": {},
     "output_type": "execute_result"
    }
   ],
   "source": [
    "clf_entropy.fit(X_train_tfidf,y_train)"
   ]
  },
  {
   "cell_type": "code",
   "execution_count": 27,
   "metadata": {},
   "outputs": [],
   "source": [
    "y_pred_gini=clf_gini.predict(X_test_tfidf)"
   ]
  },
  {
   "cell_type": "code",
   "execution_count": 28,
   "metadata": {},
   "outputs": [],
   "source": [
    "y_pred_entropy=clf_entropy.predict(X_test_tfidf)"
   ]
  },
  {
   "cell_type": "code",
   "execution_count": 29,
   "metadata": {},
   "outputs": [
    {
     "name": "stdout",
     "output_type": "stream",
     "text": [
      "Confusion Matrix:\n",
      "[[  0   0   0   0   0   0   0   0   0   0   0   0   0   0   0   0   0  69\n",
      "    0   0]\n",
      " [  0   0   0   0   0   0   0   2   0   0   0   0   0   0   0   0   0  65\n",
      "    0   0]\n",
      " [  0   0   0   0   0   0   0   0   0   0   0   0   0   0   0   0   0   8\n",
      "    0   0]\n",
      " [  0   0   0   0   0   0   0   0   0   0   0   0   0   0   0   0   0  76\n",
      "    0   0]\n",
      " [  0   0   0   0   0   0   0   0   0   0   0   0   0   0   0   0   0  49\n",
      "    0   0]\n",
      " [  0   0   0   0   0  24   0   7   0   0   0   0   0   0   0   0   0  28\n",
      "    0   0]\n",
      " [  0   0   0   0   0   0   0   0   0   0   0   0   0   0   0   0   0  24\n",
      "    0   0]\n",
      " [  0   0   0   0   0   1   0  37   0   0   0   0   0   0   0   0   0  25\n",
      "    0   0]\n",
      " [  0   0   0   0   0   1   0   1   0   0   0   0   0   0   0   0   0  44\n",
      "    0   0]\n",
      " [  0   0   0   0   0   0   0   0   0   0   0   0   0   0   0   0   0  51\n",
      "    0   0]\n",
      " [  0   0   0   0   0   0   0   0   0   0   0   0   0   0   0   0   0  73\n",
      "    0   0]\n",
      " [  0   0   0   0   0   0   0   0   0   0   0   0   0   0   0   0   0  94\n",
      "    0   0]\n",
      " [  0   0   0   0   0   0   0   0   0   0   0   0   0   0   0   0   2  41\n",
      "    0   0]\n",
      " [  0   0   0   0   0   0   0   2   0   0   0   0   0   0   0   0   0 106\n",
      "    0   0]\n",
      " [  0   0   0   0   0   0   0   1   0   0   0   0   0   0   0   0   0 105\n",
      "    0   0]\n",
      " [  0   0   0   0   0   0   0   0   0   0   0   0   0   0   0   0   0  52\n",
      "    0   0]\n",
      " [  0   0   0   0   0   0   0   0   0   0   0   0   0   0   0   0  35  27\n",
      "    0   0]\n",
      " [  0   0   0   0   0   0   0   0   0   0   0   0   0   0   0   0   0 111\n",
      "    0   0]\n",
      " [  0   0   0   0   0   0   0   0   0   0   0   0   0   0   0   0   1  47\n",
      "    0   0]\n",
      " [  0   0   0   0   0   1   0   2   0   0   0   0   0   0   0   0   0  38\n",
      "    0   0]]\n",
      "Classification Report:\n",
      "                            precision    recall  f1-score   support\n",
      "\n",
      "        action toy figures       0.00      0.00      0.00        69\n",
      "               arts crafts       0.00      0.00      0.00        67\n",
      "                 baby food       0.00      0.00      0.00         8\n",
      "           breakfast foods       0.00      0.00      0.00        76\n",
      "             building toys       0.00      0.00      0.00        49\n",
      "                      cats       0.89      0.41      0.56        59\n",
      "   cooking baking supplies       0.00      0.00      0.00        24\n",
      "                      dogs       0.71      0.59      0.64        63\n",
      "      electronics for kids       0.00      0.00      0.00        46\n",
      "         fish aquatic pets       0.00      0.00      0.00        51\n",
      "               health care       0.00      0.00      0.00        73\n",
      "        household supplies       0.00      0.00      0.00        94\n",
      "        learning education       0.00      0.00      0.00        43\n",
      "medical supplies equipment       0.00      0.00      0.00       108\n",
      "        nutrition wellness       0.00      0.00      0.00       106\n",
      "             personal care       0.00      0.00      0.00        52\n",
      "                   puzzles       0.92      0.56      0.70        62\n",
      "                snack food       0.10      1.00      0.18       111\n",
      "       sports outdoor play       0.00      0.00      0.00        48\n",
      "     stuffed animals plush       0.00      0.00      0.00        41\n",
      "\n",
      "                  accuracy                           0.17      1250\n",
      "                 macro avg       0.13      0.13      0.10      1250\n",
      "              weighted avg       0.13      0.17      0.11      1250\n",
      "\n",
      "Accuracy: 0.1656\n"
     ]
    },
    {
     "name": "stderr",
     "output_type": "stream",
     "text": [
      "C:\\Users\\Sunil\\anaconda3\\lib\\site-packages\\sklearn\\metrics\\_classification.py:1221: UndefinedMetricWarning: Precision and F-score are ill-defined and being set to 0.0 in labels with no predicted samples. Use `zero_division` parameter to control this behavior.\n",
      "  _warn_prf(average, modifier, msg_start, len(result))\n"
     ]
    }
   ],
   "source": [
    "from sklearn.metrics import classification_report, confusion_matrix, accuracy_score\n",
    "result = confusion_matrix(y_test, y_pred_gini)\n",
    "print(\"Confusion Matrix:\")\n",
    "print(result)\n",
    "result1 = classification_report(y_test, y_pred_gini)\n",
    "print(\"Classification Report:\")\n",
    "print (result1)\n",
    "result2 = accuracy_score(y_test,y_pred_gini)\n",
    "print(\"Accuracy:\",result2)"
   ]
  },
  {
   "cell_type": "code",
   "execution_count": 30,
   "metadata": {},
   "outputs": [
    {
     "name": "stdout",
     "output_type": "stream",
     "text": [
      "Confusion Matrix:\n",
      "[[ 29   0   0   0   0   0   0   0   0   0   0   0   0   0   0   0   0  40\n",
      "    0   0]\n",
      " [ 13   0   0   0   0   0   0   1   0   0   0   0   0   0   0   0   0  53\n",
      "    0   0]\n",
      " [  0   0   0   0   0   0   0   0   0   0   0   0   0   0   0   0   0   8\n",
      "    0   0]\n",
      " [  0   0   0   0   0   0   0   0   0   0   0   0   0   0   0   0   0  76\n",
      "    0   0]\n",
      " [ 17   0   0   0   0   0   0   0   0   0   0   0   0   0   0   0   0  32\n",
      "    0   0]\n",
      " [  1   0   0   0   0   0   0   6   0   0   0   0   0   0   0   0   0  52\n",
      "    0   0]\n",
      " [  0   0   0   0   0   0   0   0   0   0   0   0   0   0   0   0   0  24\n",
      "    0   0]\n",
      " [ 10   0   0   0   0   0   0  31   0   0   0   0   0   0   0   0   0  22\n",
      "    0   0]\n",
      " [ 18   0   0   0   0   0   0   0   0   0   0   0   0   0   0   0   0  28\n",
      "    0   0]\n",
      " [  0   0   0   0   0   0   0   0   0   0   0   0   0   0   0   0   0  51\n",
      "    0   0]\n",
      " [  0   0   0   0   0   0   0   0   0   0   0   0   0   0   0   0   0  73\n",
      "    0   0]\n",
      " [  0   0   0   0   0   0   0   0   0   0   0   0   0   0   0   0   0  94\n",
      "    0   0]\n",
      " [ 10   0   0   0   0   0   0   0   0   0   0   0   0   0   0   0   2  31\n",
      "    0   0]\n",
      " [  2   0   0   0   0   0   0   2   0   0   0   0   0   0   0   0   0 104\n",
      "    0   0]\n",
      " [  0   0   0   0   0   0   0   1   0   0   0   0   0   0   0   0   0 105\n",
      "    0   0]\n",
      " [  0   0   0   0   0   0   0   0   0   0   0   0   0   0   0   0   0  52\n",
      "    0   0]\n",
      " [  8   0   0   0   0   0   0   0   0   0   0   0   0   0   0   0  35  19\n",
      "    0   0]\n",
      " [  0   0   0   0   0   0   0   0   0   0   0   0   0   0   0   0   0 111\n",
      "    0   0]\n",
      " [ 14   0   0   0   0   0   0   0   0   0   0   0   0   0   0   0   1  33\n",
      "    0   0]\n",
      " [ 11   0   0   0   0   0   0   2   0   0   0   0   0   0   0   0   0  24\n",
      "    0   4]]\n",
      "Classification Report:\n",
      "                            precision    recall  f1-score   support\n",
      "\n",
      "        action toy figures       0.22      0.42      0.29        69\n",
      "               arts crafts       0.00      0.00      0.00        67\n",
      "                 baby food       0.00      0.00      0.00         8\n",
      "           breakfast foods       0.00      0.00      0.00        76\n",
      "             building toys       0.00      0.00      0.00        49\n",
      "                      cats       0.00      0.00      0.00        59\n",
      "   cooking baking supplies       0.00      0.00      0.00        24\n",
      "                      dogs       0.72      0.49      0.58        63\n",
      "      electronics for kids       0.00      0.00      0.00        46\n",
      "         fish aquatic pets       0.00      0.00      0.00        51\n",
      "               health care       0.00      0.00      0.00        73\n",
      "        household supplies       0.00      0.00      0.00        94\n",
      "        learning education       0.00      0.00      0.00        43\n",
      "medical supplies equipment       0.00      0.00      0.00       108\n",
      "        nutrition wellness       0.00      0.00      0.00       106\n",
      "             personal care       0.00      0.00      0.00        52\n",
      "                   puzzles       0.92      0.56      0.70        62\n",
      "                snack food       0.11      1.00      0.19       111\n",
      "       sports outdoor play       0.00      0.00      0.00        48\n",
      "     stuffed animals plush       1.00      0.10      0.18        41\n",
      "\n",
      "                  accuracy                           0.17      1250\n",
      "                 macro avg       0.15      0.13      0.10      1250\n",
      "              weighted avg       0.14      0.17      0.10      1250\n",
      "\n",
      "Accuracy: 0.168\n"
     ]
    }
   ],
   "source": [
    "from sklearn.metrics import classification_report, confusion_matrix, accuracy_score\n",
    "result = confusion_matrix(y_test, y_pred_entropy)\n",
    "print(\"Confusion Matrix:\")\n",
    "print(result)\n",
    "result1 = classification_report(y_test, y_pred_entropy)\n",
    "print(\"Classification Report:\")\n",
    "print (result1)\n",
    "result2 = accuracy_score(y_test,y_pred_entropy)\n",
    "print(\"Accuracy:\",result2)"
   ]
  },
  {
   "cell_type": "code",
   "execution_count": 31,
   "metadata": {},
   "outputs": [],
   "source": [
    "# Accuracy of Decision tree is v low maybe I didnt prepare my data the right way "
   ]
  },
  {
   "cell_type": "markdown",
   "metadata": {},
   "source": [
    "# Using logistic Regression "
   ]
  },
  {
   "cell_type": "code",
   "execution_count": 37,
   "metadata": {},
   "outputs": [
    {
     "name": "stdout",
     "output_type": "stream",
     "text": [
      "  (0, 14182)\t0.18830534793615428\n",
      "  (0, 13738)\t0.13367237451953598\n",
      "  (0, 13360)\t0.13194325554294412\n",
      "  (0, 10353)\t0.15822083741116807\n",
      "  (0, 9696)\t0.2344863506695177\n",
      "  (0, 9500)\t0.32362824946958924\n",
      "  (0, 9499)\t0.2710730857331412\n",
      "  (0, 9278)\t0.2557016857306\n",
      "  (0, 9268)\t0.24985775067205893\n",
      "  (0, 9134)\t0.203146521994152\n",
      "  (0, 7828)\t0.14665636606538907\n",
      "  (0, 7661)\t0.18455395156374824\n",
      "  (0, 6798)\t0.26660786759628274\n",
      "  (0, 6000)\t0.09119016049133763\n",
      "  (0, 5893)\t0.10122729485724666\n",
      "  (0, 5312)\t0.3140646439730568\n",
      "  (0, 3244)\t0.2710730857331412\n",
      "  (0, 2876)\t0.20159893825852515\n",
      "  (0, 2077)\t0.16778281354284771\n",
      "  (0, 1860)\t0.20084821002276876\n",
      "  (0, 1577)\t0.2518544684572913\n",
      "  (0, 785)\t0.10980779936089004\n",
      "  (1, 14851)\t0.06760157877956305\n",
      "  (1, 14765)\t0.06760157877956305\n",
      "  (1, 14549)\t0.05364528084212625\n",
      "  :\t:\n",
      "  (3749, 14134)\t0.08932803146170602\n",
      "  (3749, 13629)\t0.22240862740086054\n",
      "  (3749, 10714)\t0.14855102309490137\n",
      "  (3749, 10518)\t0.13996715700088203\n",
      "  (3749, 10129)\t0.08300071710811902\n",
      "  (3749, 10058)\t0.11215059544664469\n",
      "  (3749, 10036)\t0.16755084952979304\n",
      "  (3749, 9523)\t0.26997595908035454\n",
      "  (3749, 8972)\t0.22613358512929468\n",
      "  (3749, 8756)\t0.12546147573825295\n",
      "  (3749, 8706)\t0.12005249407772894\n",
      "  (3749, 8475)\t0.22240862740086054\n",
      "  (3749, 7994)\t0.26997595908035454\n",
      "  (3749, 7064)\t0.2480547721048246\n",
      "  (3749, 6281)\t0.2571528867283725\n",
      "  (3749, 6000)\t0.07607231778341324\n",
      "  (3749, 5440)\t0.1651628788029143\n",
      "  (3749, 5113)\t0.19877753277518972\n",
      "  (3749, 4831)\t0.15253205985599638\n",
      "  (3749, 4454)\t0.21604370157971375\n",
      "  (3749, 2808)\t0.18037392188177506\n",
      "  (3749, 2738)\t0.26997595908035454\n",
      "  (3749, 2737)\t0.2571528867283725\n",
      "  (3749, 1708)\t0.16755084952979304\n",
      "  (3749, 611)\t0.1888579281273064\n"
     ]
    }
   ],
   "source": [
    "print(X_train_tfidf)"
   ]
  },
  {
   "cell_type": "code",
   "execution_count": 57,
   "metadata": {},
   "outputs": [
    {
     "data": {
      "text/plain": [
       "LogisticRegression(multi_class='multinomial')"
      ]
     },
     "execution_count": 57,
     "metadata": {},
     "output_type": "execute_result"
    }
   ],
   "source": [
    "from sklearn.linear_model import LogisticRegression\n",
    "LR_clf=LogisticRegression(multi_class='multinomial')\n",
    "LR_clf.fit(X_train_tfidf,y_train)"
   ]
  },
  {
   "cell_type": "code",
   "execution_count": null,
   "metadata": {},
   "outputs": [],
   "source": []
  },
  {
   "cell_type": "code",
   "execution_count": 58,
   "metadata": {},
   "outputs": [],
   "source": [
    "ypred=LR_clf.predict(X_test_tfidf)"
   ]
  },
  {
   "cell_type": "code",
   "execution_count": 59,
   "metadata": {},
   "outputs": [
    {
     "name": "stdout",
     "output_type": "stream",
     "text": [
      "1250\n"
     ]
    },
    {
     "data": {
      "text/plain": [
       "19"
      ]
     },
     "execution_count": 59,
     "metadata": {},
     "output_type": "execute_result"
    }
   ],
   "source": [
    "print(len(ypred))\n",
    "len(np.unique(ypred))"
   ]
  },
  {
   "cell_type": "code",
   "execution_count": 60,
   "metadata": {},
   "outputs": [
    {
     "name": "stdout",
     "output_type": "stream",
     "text": [
      "Confusion Matrix:\n",
      "[[40  0  0  0  7  0  0  0  5  0  0  0  7  3  2  0  0  2  2  1]\n",
      " [ 3 34  0  0  1  0  0  2  0  0  1  1  6  1  0  0  0  6 10  2]\n",
      " [ 0  0  0  1  0  0  0  0  0  0  3  0  0  0  1  0  0  2  0  1]\n",
      " [ 0  0  0 27  0  0  0  0  0  0  1  1  0  0 16  0  0 31  0  0]\n",
      " [ 3  0  0  0 33  0  0  0  2  0  0  1  4  4  0  0  1  0  1  0]\n",
      " [ 0  0  0  0  0 45  0  4  0  1  3  2  0  2  0  0  0  2  0  0]\n",
      " [ 0  2  0  1  0  0  1  0  0  0  0  1  0  1  3  1  0 14  0  0]\n",
      " [ 1  0  0  0  0  2  0 46  1  0  0  4  0  9  0  0  0  0  0  0]\n",
      " [ 2  1  0  0  0  1  0  1 31  0  2  0  1  4  0  0  0  1  1  1]\n",
      " [ 0  0  0  0  0  0  0  0  0 39  1  1  0  6  2  0  0  2  0  0]\n",
      " [ 0  0  0  0  0  0  0  0  0  1 41  2  0 19  6  2  0  2  0  0]\n",
      " [ 0  0  0  0  0  1  0  0  0  0  4 68  0 13  2  1  0  4  0  1]\n",
      " [ 3  5  0  0  2  0  0  0  2  0  2  1 15  7  3  0  2  0  1  0]\n",
      " [ 1  0  0  0  0  0  0  1  0  0  6  4  0 92  3  0  0  1  0  0]\n",
      " [ 0  0  0  6  0  1  0  1  0  0  4  3  0  4 74  1  0 12  0  0]\n",
      " [ 1  0  0  0  0  0  0  0  1  0  5  2  0  2  2 38  0  1  0  0]\n",
      " [ 3  2  0  0  0  0  0  0  3  0  2  0  3  2  0  0 44  0  3  0]\n",
      " [ 0  0  0  5  0  0  0  0  0  0  0  1  0  1  6  0  0 97  1  0]\n",
      " [ 3  0  0  0  0  0  0  0  4  1  3  2  0  1  3  0  0  1 30  0]\n",
      " [ 3  0  0  0  1  1  0  1  1  0  0  3  1  1  0  0  0  0  1 28]]\n",
      "Classification Report:\n",
      "                            precision    recall  f1-score   support\n",
      "\n",
      "        action toy figures       0.63      0.58      0.61        69\n",
      "               arts crafts       0.77      0.51      0.61        67\n",
      "                 baby food       0.00      0.00      0.00         8\n",
      "           breakfast foods       0.68      0.36      0.47        76\n",
      "             building toys       0.75      0.67      0.71        49\n",
      "                      cats       0.88      0.76      0.82        59\n",
      "   cooking baking supplies       1.00      0.04      0.08        24\n",
      "                      dogs       0.82      0.73      0.77        63\n",
      "      electronics for kids       0.62      0.67      0.65        46\n",
      "         fish aquatic pets       0.93      0.76      0.84        51\n",
      "               health care       0.53      0.56      0.54        73\n",
      "        household supplies       0.70      0.72      0.71        94\n",
      "        learning education       0.41      0.35      0.38        43\n",
      "medical supplies equipment       0.53      0.85      0.66       108\n",
      "        nutrition wellness       0.60      0.70      0.65       106\n",
      "             personal care       0.88      0.73      0.80        52\n",
      "                   puzzles       0.94      0.71      0.81        62\n",
      "                snack food       0.54      0.87      0.67       111\n",
      "       sports outdoor play       0.60      0.62      0.61        48\n",
      "     stuffed animals plush       0.82      0.68      0.75        41\n",
      "\n",
      "                  accuracy                           0.66      1250\n",
      "                 macro avg       0.68      0.59      0.61      1250\n",
      "              weighted avg       0.69      0.66      0.65      1250\n",
      "\n",
      "Accuracy: 0.6584\n"
     ]
    },
    {
     "name": "stderr",
     "output_type": "stream",
     "text": [
      "C:\\Users\\Sunil\\anaconda3\\lib\\site-packages\\sklearn\\metrics\\_classification.py:1221: UndefinedMetricWarning: Precision and F-score are ill-defined and being set to 0.0 in labels with no predicted samples. Use `zero_division` parameter to control this behavior.\n",
      "  _warn_prf(average, modifier, msg_start, len(result))\n"
     ]
    }
   ],
   "source": [
    "from sklearn.metrics import classification_report, confusion_matrix, accuracy_score\n",
    "result = confusion_matrix(y_test, ypred)\n",
    "print(\"Confusion Matrix:\")\n",
    "print(result)\n",
    "result1 = classification_report(y_test, ypred)\n",
    "print(\"Classification Report:\")\n",
    "print (result1)\n",
    "result2 = accuracy_score(y_test,ypred)\n",
    "print(\"Accuracy:\",result2)"
   ]
  },
  {
   "cell_type": "markdown",
   "metadata": {},
   "source": [
    "So far Logistic Regression has given us the highest accuracy of 65.84% it looks like it's performing pretty well on the given datset as compared to other algorithms "
   ]
  },
  {
   "cell_type": "code",
   "execution_count": null,
   "metadata": {},
   "outputs": [],
   "source": []
  }
 ],
 "metadata": {
  "kernelspec": {
   "display_name": "Python 3",
   "language": "python",
   "name": "python3"
  },
  "language_info": {
   "codemirror_mode": {
    "name": "ipython",
    "version": 3
   },
   "file_extension": ".py",
   "mimetype": "text/x-python",
   "name": "python",
   "nbconvert_exporter": "python",
   "pygments_lexer": "ipython3",
   "version": "3.8.5"
  }
 },
 "nbformat": 4,
 "nbformat_minor": 4
}
